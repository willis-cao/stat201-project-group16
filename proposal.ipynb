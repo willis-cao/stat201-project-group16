{
 "cells": [
  {
   "cell_type": "markdown",
   "id": "09b28170-9266-4177-b9b8-5a802e6d3b83",
   "metadata": {},
   "source": [
    "# STAT 201 Project Proposal\n",
    "### Group 16"
   ]
  },
  {
   "cell_type": "markdown",
   "id": "116aba86-75a5-4806-b357-8ef11f17f65f",
   "metadata": {},
   "source": [
    "## 2. Preliminary Results"
   ]
  },
  {
   "cell_type": "markdown",
   "id": "6cd32f5d-4fca-4a94-a991-2081fc1bd76e",
   "metadata": {},
   "source": [
    "We begin by loading the necessary R libraries for data wrangling and statistical inference."
   ]
  },
  {
   "cell_type": "code",
   "execution_count": 1,
   "id": "906788bb-d867-4a66-a629-52c6391a6fee",
   "metadata": {},
   "outputs": [
    {
     "name": "stderr",
     "output_type": "stream",
     "text": [
      "── \u001b[1mAttaching packages\u001b[22m ─────────────────────────────────────── tidyverse 1.3.2 ──\n",
      "\u001b[32m✔\u001b[39m \u001b[34mggplot2\u001b[39m 3.3.6      \u001b[32m✔\u001b[39m \u001b[34mpurrr  \u001b[39m 0.3.4 \n",
      "\u001b[32m✔\u001b[39m \u001b[34mtibble \u001b[39m 3.1.8      \u001b[32m✔\u001b[39m \u001b[34mdplyr  \u001b[39m 1.0.10\n",
      "\u001b[32m✔\u001b[39m \u001b[34mtidyr  \u001b[39m 1.2.1      \u001b[32m✔\u001b[39m \u001b[34mstringr\u001b[39m 1.4.1 \n",
      "\u001b[32m✔\u001b[39m \u001b[34mreadr  \u001b[39m 2.1.2      \u001b[32m✔\u001b[39m \u001b[34mforcats\u001b[39m 0.5.2 \n",
      "── \u001b[1mConflicts\u001b[22m ────────────────────────────────────────── tidyverse_conflicts() ──\n",
      "\u001b[31m✖\u001b[39m \u001b[34mdplyr\u001b[39m::\u001b[32mfilter()\u001b[39m masks \u001b[34mstats\u001b[39m::filter()\n",
      "\u001b[31m✖\u001b[39m \u001b[34mdplyr\u001b[39m::\u001b[32mlag()\u001b[39m    masks \u001b[34mstats\u001b[39m::lag()\n",
      "\n",
      "Attaching package: ‘gridExtra’\n",
      "\n",
      "\n",
      "The following object is masked from ‘package:dplyr’:\n",
      "\n",
      "    combine\n",
      "\n",
      "\n"
     ]
    }
   ],
   "source": [
    "library(cowplot)\n",
    "library(digest)\n",
    "library(infer)\n",
    "library(repr)\n",
    "library(taxyvr)\n",
    "library(tidyverse)\n",
    "library(broom)\n",
    "library(gridExtra)"
   ]
  },
  {
   "cell_type": "markdown",
   "id": "06e99c2a-8818-4292-aaee-32df824961c0",
   "metadata": {},
   "source": [
    "Next, we read the data from CSV files downloaded from the Vancouver Police Department (https://geodash.vpd.ca/opendata/) for the years 2018-2022 in the neighbourhood West Point Grey. We combine the data across all five years into a single data frame, and select only the columns of interest, which in this case are those that represent the type of crime and the date and time the crime took place."
   ]
  },
  {
   "cell_type": "code",
   "execution_count": 2,
   "id": "75d89ea7-c603-4c33-9ee0-d5c993bf565b",
   "metadata": {},
   "outputs": [
    {
     "data": {
      "text/html": [
       "<table class=\"dataframe\">\n",
       "<caption>A tibble: 6 × 5</caption>\n",
       "<thead>\n",
       "\t<tr><th scope=col>TYPE</th><th scope=col>YEAR</th><th scope=col>MONTH</th><th scope=col>DAY</th><th scope=col>HOUR</th></tr>\n",
       "\t<tr><th scope=col>&lt;fct&gt;</th><th scope=col>&lt;dbl&gt;</th><th scope=col>&lt;dbl&gt;</th><th scope=col>&lt;dbl&gt;</th><th scope=col>&lt;dbl&gt;</th></tr>\n",
       "</thead>\n",
       "<tbody>\n",
       "\t<tr><td>Break and Enter Commercial</td><td>2018</td><td> 5</td><td>18</td><td>18</td></tr>\n",
       "\t<tr><td>Break and Enter Commercial</td><td>2018</td><td> 5</td><td>29</td><td>23</td></tr>\n",
       "\t<tr><td>Break and Enter Commercial</td><td>2018</td><td> 9</td><td>25</td><td>14</td></tr>\n",
       "\t<tr><td>Break and Enter Commercial</td><td>2018</td><td>11</td><td> 9</td><td>18</td></tr>\n",
       "\t<tr><td>Break and Enter Commercial</td><td>2018</td><td> 9</td><td>17</td><td>12</td></tr>\n",
       "\t<tr><td>Break and Enter Commercial</td><td>2018</td><td> 2</td><td> 2</td><td>14</td></tr>\n",
       "</tbody>\n",
       "</table>\n"
      ],
      "text/latex": [
       "A tibble: 6 × 5\n",
       "\\begin{tabular}{lllll}\n",
       " TYPE & YEAR & MONTH & DAY & HOUR\\\\\n",
       " <fct> & <dbl> & <dbl> & <dbl> & <dbl>\\\\\n",
       "\\hline\n",
       "\t Break and Enter Commercial & 2018 &  5 & 18 & 18\\\\\n",
       "\t Break and Enter Commercial & 2018 &  5 & 29 & 23\\\\\n",
       "\t Break and Enter Commercial & 2018 &  9 & 25 & 14\\\\\n",
       "\t Break and Enter Commercial & 2018 & 11 &  9 & 18\\\\\n",
       "\t Break and Enter Commercial & 2018 &  9 & 17 & 12\\\\\n",
       "\t Break and Enter Commercial & 2018 &  2 &  2 & 14\\\\\n",
       "\\end{tabular}\n"
      ],
      "text/markdown": [
       "\n",
       "A tibble: 6 × 5\n",
       "\n",
       "| TYPE &lt;fct&gt; | YEAR &lt;dbl&gt; | MONTH &lt;dbl&gt; | DAY &lt;dbl&gt; | HOUR &lt;dbl&gt; |\n",
       "|---|---|---|---|---|\n",
       "| Break and Enter Commercial | 2018 |  5 | 18 | 18 |\n",
       "| Break and Enter Commercial | 2018 |  5 | 29 | 23 |\n",
       "| Break and Enter Commercial | 2018 |  9 | 25 | 14 |\n",
       "| Break and Enter Commercial | 2018 | 11 |  9 | 18 |\n",
       "| Break and Enter Commercial | 2018 |  9 | 17 | 12 |\n",
       "| Break and Enter Commercial | 2018 |  2 |  2 | 14 |\n",
       "\n"
      ],
      "text/plain": [
       "  TYPE                       YEAR MONTH DAY HOUR\n",
       "1 Break and Enter Commercial 2018  5    18  18  \n",
       "2 Break and Enter Commercial 2018  5    29  23  \n",
       "3 Break and Enter Commercial 2018  9    25  14  \n",
       "4 Break and Enter Commercial 2018 11     9  18  \n",
       "5 Break and Enter Commercial 2018  9    17  12  \n",
       "6 Break and Enter Commercial 2018  2     2  14  "
      ]
     },
     "metadata": {},
     "output_type": "display_data"
    }
   ],
   "source": [
    "west_point_grey_2018 <- read_csv(\"https://raw.githubusercontent.com/willis-cao/stat201-project-group16/main/crimedata_csv_West%20Point%20Grey_2018.csv\", show_col_types = FALSE)\n",
    "west_point_grey_2019 <- read_csv(\"https://raw.githubusercontent.com/willis-cao/stat201-project-group16/main/crimedata_csv_West%20Point%20Grey_2019.csv\", show_col_types = FALSE)\n",
    "west_point_grey_2020 <- read_csv(\"https://raw.githubusercontent.com/willis-cao/stat201-project-group16/main/crimedata_csv_West%20Point%20Grey_2020.csv\", show_col_types = FALSE)\n",
    "west_point_grey_2021 <- read_csv(\"https://raw.githubusercontent.com/willis-cao/stat201-project-group16/main/crimedata_csv_West%20Point%20Grey_2021.csv\", show_col_types = FALSE)\n",
    "west_point_grey_2022 <- read_csv(\"https://raw.githubusercontent.com/willis-cao/stat201-project-group16/main/crimedata_csv_West%20Point%20Grey_2022.csv\", show_col_types = FALSE)\n",
    "\n",
    "wpg <- rbind(\n",
    "    west_point_grey_2018, \n",
    "    west_point_grey_2019,\n",
    "    west_point_grey_2020,\n",
    "    west_point_grey_2021,\n",
    "    west_point_grey_2022\n",
    ") |>\n",
    "    mutate(TYPE = as.factor(TYPE)) |>\n",
    "    select(TYPE, YEAR, MONTH, DAY, HOUR)\n",
    "\n",
    "head(wpg)"
   ]
  },
  {
   "cell_type": "markdown",
   "id": "a41f7967-4084-4077-9058-5295ec5ccdef",
   "metadata": {},
   "source": [
    "Next, we divide the data into two data frames representing our time periods of interest: the first contains data from March 2018-Feb 2020, the two years before the COVID-19 pandemic, and the second contains data from March 2020-Feb 2022, the two years after the pandemic. Summary tables for each period are below, and show the number of each type of crime."
   ]
  },
  {
   "cell_type": "code",
   "execution_count": 3,
   "id": "463ce2c5-c965-4871-b1c8-a12b2fd92aab",
   "metadata": {},
   "outputs": [],
   "source": [
    "wpg_precovid <- wpg |>\n",
    "    filter((YEAR == 2018 & MONTH > 2) | YEAR == 2019 | (YEAR == 2020 & MONTH < 3))\n",
    "\n",
    "wpg_covid <- wpg |>\n",
    "    filter((YEAR == 2020 & MONTH > 2) | YEAR == 2021 | (YEAR == 2022 & MONTH < 3))\n",
    "\n",
    "wpg_precovid_by_type <- wpg_precovid |>\n",
    "    group_by(TYPE) |>\n",
    "    summarize(n = n())\n",
    "\n",
    "wpg_covid_by_type <- wpg_covid |>\n",
    "    group_by(TYPE) |>\n",
    "    summarize(n = n())"
   ]
  },
  {
   "cell_type": "code",
   "execution_count": 4,
   "id": "f3f309d1-72fb-458d-9cac-54d752816448",
   "metadata": {},
   "outputs": [
    {
     "data": {
      "text/html": [
       "<table class=\"dataframe\">\n",
       "<caption>A tibble: 10 × 2</caption>\n",
       "<thead>\n",
       "\t<tr><th scope=col>TYPE</th><th scope=col>n</th></tr>\n",
       "\t<tr><th scope=col>&lt;fct&gt;</th><th scope=col>&lt;int&gt;</th></tr>\n",
       "</thead>\n",
       "<tbody>\n",
       "\t<tr><td>Break and Enter Commercial                            </td><td> 27</td></tr>\n",
       "\t<tr><td>Break and Enter Residential/Other                     </td><td>131</td></tr>\n",
       "\t<tr><td>Mischief                                              </td><td>106</td></tr>\n",
       "\t<tr><td>Offence Against a Person                              </td><td> 34</td></tr>\n",
       "\t<tr><td>Other Theft                                           </td><td>124</td></tr>\n",
       "\t<tr><td>Theft from Vehicle                                    </td><td>340</td></tr>\n",
       "\t<tr><td>Theft of Bicycle                                      </td><td> 62</td></tr>\n",
       "\t<tr><td>Theft of Vehicle                                      </td><td> 26</td></tr>\n",
       "\t<tr><td>Vehicle Collision or Pedestrian Struck (with Fatality)</td><td>  1</td></tr>\n",
       "\t<tr><td>Vehicle Collision or Pedestrian Struck (with Injury)  </td><td> 31</td></tr>\n",
       "</tbody>\n",
       "</table>\n"
      ],
      "text/latex": [
       "A tibble: 10 × 2\n",
       "\\begin{tabular}{ll}\n",
       " TYPE & n\\\\\n",
       " <fct> & <int>\\\\\n",
       "\\hline\n",
       "\t Break and Enter Commercial                             &  27\\\\\n",
       "\t Break and Enter Residential/Other                      & 131\\\\\n",
       "\t Mischief                                               & 106\\\\\n",
       "\t Offence Against a Person                               &  34\\\\\n",
       "\t Other Theft                                            & 124\\\\\n",
       "\t Theft from Vehicle                                     & 340\\\\\n",
       "\t Theft of Bicycle                                       &  62\\\\\n",
       "\t Theft of Vehicle                                       &  26\\\\\n",
       "\t Vehicle Collision or Pedestrian Struck (with Fatality) &   1\\\\\n",
       "\t Vehicle Collision or Pedestrian Struck (with Injury)   &  31\\\\\n",
       "\\end{tabular}\n"
      ],
      "text/markdown": [
       "\n",
       "A tibble: 10 × 2\n",
       "\n",
       "| TYPE &lt;fct&gt; | n &lt;int&gt; |\n",
       "|---|---|\n",
       "| Break and Enter Commercial                             |  27 |\n",
       "| Break and Enter Residential/Other                      | 131 |\n",
       "| Mischief                                               | 106 |\n",
       "| Offence Against a Person                               |  34 |\n",
       "| Other Theft                                            | 124 |\n",
       "| Theft from Vehicle                                     | 340 |\n",
       "| Theft of Bicycle                                       |  62 |\n",
       "| Theft of Vehicle                                       |  26 |\n",
       "| Vehicle Collision or Pedestrian Struck (with Fatality) |   1 |\n",
       "| Vehicle Collision or Pedestrian Struck (with Injury)   |  31 |\n",
       "\n"
      ],
      "text/plain": [
       "   TYPE                                                   n  \n",
       "1  Break and Enter Commercial                              27\n",
       "2  Break and Enter Residential/Other                      131\n",
       "3  Mischief                                               106\n",
       "4  Offence Against a Person                                34\n",
       "5  Other Theft                                            124\n",
       "6  Theft from Vehicle                                     340\n",
       "7  Theft of Bicycle                                        62\n",
       "8  Theft of Vehicle                                        26\n",
       "9  Vehicle Collision or Pedestrian Struck (with Fatality)   1\n",
       "10 Vehicle Collision or Pedestrian Struck (with Injury)    31"
      ]
     },
     "metadata": {},
     "output_type": "display_data"
    }
   ],
   "source": [
    "wpg_precovid_by_type"
   ]
  },
  {
   "cell_type": "markdown",
   "id": "8d5ad630-dfca-413f-8c6e-9c0983728043",
   "metadata": {},
   "source": [
    "(Figure 1a. Crimes in West Point Grey, 03/2018-02/2020)"
   ]
  },
  {
   "cell_type": "code",
   "execution_count": 5,
   "id": "ca2851eb-2e13-4b6c-9dce-9823387ce535",
   "metadata": {},
   "outputs": [
    {
     "data": {
      "text/html": [
       "<table class=\"dataframe\">\n",
       "<caption>A tibble: 11 × 2</caption>\n",
       "<thead>\n",
       "\t<tr><th scope=col>TYPE</th><th scope=col>n</th></tr>\n",
       "\t<tr><th scope=col>&lt;fct&gt;</th><th scope=col>&lt;int&gt;</th></tr>\n",
       "</thead>\n",
       "<tbody>\n",
       "\t<tr><td>Break and Enter Commercial                            </td><td> 27</td></tr>\n",
       "\t<tr><td>Break and Enter Residential/Other                     </td><td>157</td></tr>\n",
       "\t<tr><td>Homicide                                              </td><td>  1</td></tr>\n",
       "\t<tr><td>Mischief                                              </td><td> 88</td></tr>\n",
       "\t<tr><td>Offence Against a Person                              </td><td> 39</td></tr>\n",
       "\t<tr><td>Other Theft                                           </td><td>120</td></tr>\n",
       "\t<tr><td>Theft from Vehicle                                    </td><td>266</td></tr>\n",
       "\t<tr><td>Theft of Bicycle                                      </td><td> 44</td></tr>\n",
       "\t<tr><td>Theft of Vehicle                                      </td><td> 15</td></tr>\n",
       "\t<tr><td>Vehicle Collision or Pedestrian Struck (with Fatality)</td><td>  2</td></tr>\n",
       "\t<tr><td>Vehicle Collision or Pedestrian Struck (with Injury)  </td><td> 21</td></tr>\n",
       "</tbody>\n",
       "</table>\n"
      ],
      "text/latex": [
       "A tibble: 11 × 2\n",
       "\\begin{tabular}{ll}\n",
       " TYPE & n\\\\\n",
       " <fct> & <int>\\\\\n",
       "\\hline\n",
       "\t Break and Enter Commercial                             &  27\\\\\n",
       "\t Break and Enter Residential/Other                      & 157\\\\\n",
       "\t Homicide                                               &   1\\\\\n",
       "\t Mischief                                               &  88\\\\\n",
       "\t Offence Against a Person                               &  39\\\\\n",
       "\t Other Theft                                            & 120\\\\\n",
       "\t Theft from Vehicle                                     & 266\\\\\n",
       "\t Theft of Bicycle                                       &  44\\\\\n",
       "\t Theft of Vehicle                                       &  15\\\\\n",
       "\t Vehicle Collision or Pedestrian Struck (with Fatality) &   2\\\\\n",
       "\t Vehicle Collision or Pedestrian Struck (with Injury)   &  21\\\\\n",
       "\\end{tabular}\n"
      ],
      "text/markdown": [
       "\n",
       "A tibble: 11 × 2\n",
       "\n",
       "| TYPE &lt;fct&gt; | n &lt;int&gt; |\n",
       "|---|---|\n",
       "| Break and Enter Commercial                             |  27 |\n",
       "| Break and Enter Residential/Other                      | 157 |\n",
       "| Homicide                                               |   1 |\n",
       "| Mischief                                               |  88 |\n",
       "| Offence Against a Person                               |  39 |\n",
       "| Other Theft                                            | 120 |\n",
       "| Theft from Vehicle                                     | 266 |\n",
       "| Theft of Bicycle                                       |  44 |\n",
       "| Theft of Vehicle                                       |  15 |\n",
       "| Vehicle Collision or Pedestrian Struck (with Fatality) |   2 |\n",
       "| Vehicle Collision or Pedestrian Struck (with Injury)   |  21 |\n",
       "\n"
      ],
      "text/plain": [
       "   TYPE                                                   n  \n",
       "1  Break and Enter Commercial                              27\n",
       "2  Break and Enter Residential/Other                      157\n",
       "3  Homicide                                                 1\n",
       "4  Mischief                                                88\n",
       "5  Offence Against a Person                                39\n",
       "6  Other Theft                                            120\n",
       "7  Theft from Vehicle                                     266\n",
       "8  Theft of Bicycle                                        44\n",
       "9  Theft of Vehicle                                        15\n",
       "10 Vehicle Collision or Pedestrian Struck (with Fatality)   2\n",
       "11 Vehicle Collision or Pedestrian Struck (with Injury)    21"
      ]
     },
     "metadata": {},
     "output_type": "display_data"
    }
   ],
   "source": [
    "wpg_covid_by_type"
   ]
  },
  {
   "cell_type": "markdown",
   "id": "4ab77afd-7c54-402d-b40f-954ce59afe61",
   "metadata": {},
   "source": [
    "(Figure 1b. Crimes in West Point Grey, 03/2020-02/2022)"
   ]
  },
  {
   "cell_type": "markdown",
   "id": "2374fc62-99ee-4edc-a325-d2f63b7541a0",
   "metadata": {},
   "source": [
    "Next, we calculate summary statistics for the proportion of break and enter crimes across both time periods."
   ]
  },
  {
   "cell_type": "code",
   "execution_count": 6,
   "id": "3817c009-16b2-409a-9e47-8ebaf837d151",
   "metadata": {},
   "outputs": [
    {
     "data": {
      "text/html": [
       "<table class=\"dataframe\">\n",
       "<caption>A tibble: 2 × 4</caption>\n",
       "<thead>\n",
       "\t<tr><th scope=col>group_col</th><th scope=col>n_break_col</th><th scope=col>n_total_col</th><th scope=col>prop_col</th></tr>\n",
       "\t<tr><th scope=col>&lt;chr&gt;</th><th scope=col>&lt;int&gt;</th><th scope=col>&lt;int&gt;</th><th scope=col>&lt;dbl&gt;</th></tr>\n",
       "</thead>\n",
       "<tbody>\n",
       "\t<tr><td>Pre-COVID</td><td>158</td><td>882</td><td>0.1791383</td></tr>\n",
       "\t<tr><td>COVID    </td><td>184</td><td>780</td><td>0.2358974</td></tr>\n",
       "</tbody>\n",
       "</table>\n"
      ],
      "text/latex": [
       "A tibble: 2 × 4\n",
       "\\begin{tabular}{llll}\n",
       " group\\_col & n\\_break\\_col & n\\_total\\_col & prop\\_col\\\\\n",
       " <chr> & <int> & <int> & <dbl>\\\\\n",
       "\\hline\n",
       "\t Pre-COVID & 158 & 882 & 0.1791383\\\\\n",
       "\t COVID     & 184 & 780 & 0.2358974\\\\\n",
       "\\end{tabular}\n"
      ],
      "text/markdown": [
       "\n",
       "A tibble: 2 × 4\n",
       "\n",
       "| group_col &lt;chr&gt; | n_break_col &lt;int&gt; | n_total_col &lt;int&gt; | prop_col &lt;dbl&gt; |\n",
       "|---|---|---|---|\n",
       "| Pre-COVID | 158 | 882 | 0.1791383 |\n",
       "| COVID     | 184 | 780 | 0.2358974 |\n",
       "\n"
      ],
      "text/plain": [
       "  group_col n_break_col n_total_col prop_col \n",
       "1 Pre-COVID 158         882         0.1791383\n",
       "2 COVID     184         780         0.2358974"
      ]
     },
     "metadata": {},
     "output_type": "display_data"
    }
   ],
   "source": [
    "# wpg_summary <- wpg_precovid |>\n",
    "#     summarize(prop = prop(TYPE == \"Break and Enter Commercial\" | TYPE == \"Break and Enter Residential/Other\"))\n",
    "set.seed(2023)\n",
    "\n",
    "bootstrap_reps = 1000\n",
    "\n",
    "precovid_sample_size = nrow(wpg_precovid)\n",
    "covid_sample_size = nrow(wpg_covid)\n",
    "\n",
    "group_col <- c(\"Pre-COVID\", \"COVID\")\n",
    "n_break_col <- c(nrow(wpg_precovid |> filter(TYPE == \"Break and Enter Commercial\" | TYPE == \"Break and Enter Residential/Other\")),\n",
    "                 nrow(wpg_covid |> filter(TYPE == \"Break and Enter Commercial\" | TYPE == \"Break and Enter Residential/Other\")))\n",
    "n_total_col <- c(precovid_sample_size, covid_sample_size)\n",
    "prop_col <- c(n_break_col[1] / n_total_col[1],\n",
    "              n_break_col[2] / n_total_col[2])\n",
    "\n",
    "summary_tibble <- tibble(group_col, n_break_col, n_total_col, prop_col)\n",
    "summary_tibble"
   ]
  },
  {
   "cell_type": "code",
   "execution_count": 7,
   "id": "bc0b9f54-ec46-4c81-b62d-67e2ba103aa1",
   "metadata": {},
   "outputs": [
    {
     "data": {
      "text/html": [
       "<table class=\"dataframe\">\n",
       "<caption>A tibble: 1 × 9</caption>\n",
       "<thead>\n",
       "\t<tr><th scope=col>estimate1</th><th scope=col>estimate2</th><th scope=col>statistic</th><th scope=col>p.value</th><th scope=col>parameter</th><th scope=col>conf.low</th><th scope=col>conf.high</th><th scope=col>method</th><th scope=col>alternative</th></tr>\n",
       "\t<tr><th scope=col>&lt;dbl&gt;</th><th scope=col>&lt;dbl&gt;</th><th scope=col>&lt;dbl&gt;</th><th scope=col>&lt;dbl&gt;</th><th scope=col>&lt;dbl&gt;</th><th scope=col>&lt;dbl&gt;</th><th scope=col>&lt;dbl&gt;</th><th scope=col>&lt;chr&gt;</th><th scope=col>&lt;chr&gt;</th></tr>\n",
       "</thead>\n",
       "<tbody>\n",
       "\t<tr><td>0.1791383</td><td>0.2358974</td><td>8.159535</td><td>0.004283536</td><td>1</td><td>-0.09585096</td><td>-0.01766727</td><td>2-sample test for equality of proportions without continuity correction</td><td>two.sided</td></tr>\n",
       "</tbody>\n",
       "</table>\n"
      ],
      "text/latex": [
       "A tibble: 1 × 9\n",
       "\\begin{tabular}{lllllllll}\n",
       " estimate1 & estimate2 & statistic & p.value & parameter & conf.low & conf.high & method & alternative\\\\\n",
       " <dbl> & <dbl> & <dbl> & <dbl> & <dbl> & <dbl> & <dbl> & <chr> & <chr>\\\\\n",
       "\\hline\n",
       "\t 0.1791383 & 0.2358974 & 8.159535 & 0.004283536 & 1 & -0.09585096 & -0.01766727 & 2-sample test for equality of proportions without continuity correction & two.sided\\\\\n",
       "\\end{tabular}\n"
      ],
      "text/markdown": [
       "\n",
       "A tibble: 1 × 9\n",
       "\n",
       "| estimate1 &lt;dbl&gt; | estimate2 &lt;dbl&gt; | statistic &lt;dbl&gt; | p.value &lt;dbl&gt; | parameter &lt;dbl&gt; | conf.low &lt;dbl&gt; | conf.high &lt;dbl&gt; | method &lt;chr&gt; | alternative &lt;chr&gt; |\n",
       "|---|---|---|---|---|---|---|---|---|\n",
       "| 0.1791383 | 0.2358974 | 8.159535 | 0.004283536 | 1 | -0.09585096 | -0.01766727 | 2-sample test for equality of proportions without continuity correction | two.sided |\n",
       "\n"
      ],
      "text/plain": [
       "  estimate1 estimate2 statistic p.value     parameter conf.low    conf.high  \n",
       "1 0.1791383 0.2358974 8.159535  0.004283536 1         -0.09585096 -0.01766727\n",
       "  method                                                                 \n",
       "1 2-sample test for equality of proportions without continuity correction\n",
       "  alternative\n",
       "1 two.sided  "
      ]
     },
     "metadata": {},
     "output_type": "display_data"
    }
   ],
   "source": [
    "z_test <- tidy(prop.test(\n",
    "    x = n_break_col,\n",
    "    n = n_total_col,\n",
    "    correct = FALSE\n",
    "    ))\n",
    "z_test"
   ]
  },
  {
   "cell_type": "code",
   "execution_count": 8,
   "id": "77dba7d4-b870-47c4-b2d7-fc965d330f3c",
   "metadata": {},
   "outputs": [
    {
     "name": "stderr",
     "output_type": "stream",
     "text": [
      "`stat_bin()` using `bins = 30`. Pick better value with `binwidth`.\n",
      "\n",
      "`stat_bin()` using `bins = 30`. Pick better value with `binwidth`.\n",
      "\n"
     ]
    },
    {
     "data": {
      "application/pdf": "[encoded data removed]",
      "image/jpeg": "[encoded data removed]",
      "image/png": "[encoded data removed]",
      "image/svg+xml": [
       "<?xml version=\"1.0\" encoding=\"UTF-8\"?>\n",
       "<svg xmlns=\"http://www.w3.org/2000/svg\" xmlns:xlink=\"http://www.w3.org/1999/xlink\" width=\"504pt\" height=\"504pt\" viewBox=\"0 0 504 504\" version=\"1.1\">\n",
       "<defs>\n",
       "<g>\n",
       "<symbol overflow=\"visible\" id=\"glyph0-0\">\n",
       "<path style=\"stroke:none;\" d=\"M 0.296875 0 L 0.296875 -5.859375 L 2.625 -5.859375 L 2.625 0 Z M 0.578125 -0.296875 L 2.34375 -0.296875 L 2.34375 -5.578125 L 0.578125 -5.578125 Z M 0.578125 -0.296875 \"/>\n",
       "</symbol>\n",
       "<symbol overflow=\"visible\" id=\"glyph0-1\">\n",
       "<path style=\"stroke:none;\" d=\"M 4.546875 -3.03125 C 4.546875 -2.445312 4.488281 -1.957031 4.375 -1.5625 C 4.269531 -1.164062 4.117188 -0.84375 3.921875 -0.59375 C 3.734375 -0.351562 3.507812 -0.179688 3.25 -0.078125 C 3 0.0234375 2.726562 0.078125 2.4375 0.078125 C 2.144531 0.078125 1.867188 0.0234375 1.609375 -0.078125 C 1.359375 -0.179688 1.140625 -0.351562 0.953125 -0.59375 C 0.765625 -0.84375 0.613281 -1.164062 0.5 -1.5625 C 0.394531 -1.957031 0.34375 -2.445312 0.34375 -3.03125 C 0.34375 -3.632812 0.394531 -4.132812 0.5 -4.53125 C 0.613281 -4.9375 0.765625 -5.257812 0.953125 -5.5 C 1.140625 -5.738281 1.359375 -5.90625 1.609375 -6 C 1.867188 -6.09375 2.15625 -6.140625 2.46875 -6.140625 C 2.75 -6.140625 3.015625 -6.09375 3.265625 -6 C 3.523438 -5.90625 3.75 -5.738281 3.9375 -5.5 C 4.125 -5.257812 4.269531 -4.9375 4.375 -4.53125 C 4.488281 -4.132812 4.546875 -3.632812 4.546875 -3.03125 Z M 3.765625 -3.03125 C 3.765625 -3.507812 3.734375 -3.90625 3.671875 -4.21875 C 3.617188 -4.539062 3.535156 -4.796875 3.421875 -4.984375 C 3.304688 -5.179688 3.164062 -5.316406 3 -5.390625 C 2.84375 -5.472656 2.664062 -5.515625 2.46875 -5.515625 C 2.25 -5.515625 2.054688 -5.472656 1.890625 -5.390625 C 1.722656 -5.316406 1.582031 -5.179688 1.46875 -4.984375 C 1.351562 -4.796875 1.265625 -4.539062 1.203125 -4.21875 C 1.148438 -3.90625 1.125 -3.507812 1.125 -3.03125 C 1.125 -2.5625 1.148438 -2.164062 1.203125 -1.84375 C 1.265625 -1.53125 1.351562 -1.273438 1.46875 -1.078125 C 1.582031 -0.890625 1.71875 -0.753906 1.875 -0.671875 C 2.039062 -0.585938 2.226562 -0.546875 2.4375 -0.546875 C 2.644531 -0.546875 2.828125 -0.585938 2.984375 -0.671875 C 3.148438 -0.753906 3.289062 -0.890625 3.40625 -1.078125 C 3.519531 -1.273438 3.609375 -1.53125 3.671875 -1.84375 C 3.734375 -2.164062 3.765625 -2.5625 3.765625 -3.03125 Z M 3.765625 -3.03125 \"/>\n",
       "</symbol>\n",
       "<symbol overflow=\"visible\" id=\"glyph0-2\">\n",
       "<path style=\"stroke:none;\" d=\"M 0.671875 0 L 0.671875 -0.65625 L 2.21875 -0.65625 L 2.21875 -5.3125 L 0.84375 -4.34375 L 0.84375 -5.0625 L 2.28125 -6.046875 L 2.984375 -6.046875 L 2.984375 -0.65625 L 4.46875 -0.65625 L 4.46875 0 Z M 0.671875 0 \"/>\n",
       "</symbol>\n",
       "<symbol overflow=\"visible\" id=\"glyph0-3\">\n",
       "<path style=\"stroke:none;\" d=\"M 0.4375 0 L 0.4375 -0.546875 C 0.582031 -0.878906 0.757812 -1.171875 0.96875 -1.421875 C 1.1875 -1.679688 1.410156 -1.914062 1.640625 -2.125 C 1.867188 -2.332031 2.097656 -2.523438 2.328125 -2.703125 C 2.554688 -2.878906 2.757812 -3.054688 2.9375 -3.234375 C 3.125 -3.410156 3.273438 -3.597656 3.390625 -3.796875 C 3.503906 -3.992188 3.5625 -4.210938 3.5625 -4.453125 C 3.5625 -4.628906 3.535156 -4.78125 3.484375 -4.90625 C 3.429688 -5.039062 3.351562 -5.148438 3.25 -5.234375 C 3.15625 -5.328125 3.039062 -5.394531 2.90625 -5.4375 C 2.769531 -5.476562 2.617188 -5.5 2.453125 -5.5 C 2.296875 -5.5 2.148438 -5.476562 2.015625 -5.4375 C 1.878906 -5.394531 1.757812 -5.332031 1.65625 -5.25 C 1.550781 -5.164062 1.460938 -5.054688 1.390625 -4.921875 C 1.328125 -4.796875 1.285156 -4.648438 1.265625 -4.484375 L 0.484375 -4.5625 C 0.503906 -4.78125 0.5625 -4.984375 0.65625 -5.171875 C 0.75 -5.359375 0.878906 -5.523438 1.046875 -5.671875 C 1.210938 -5.816406 1.410156 -5.929688 1.640625 -6.015625 C 1.878906 -6.097656 2.148438 -6.140625 2.453125 -6.140625 C 2.753906 -6.140625 3.019531 -6.101562 3.25 -6.03125 C 3.488281 -5.957031 3.6875 -5.847656 3.84375 -5.703125 C 4.007812 -5.566406 4.132812 -5.394531 4.21875 -5.1875 C 4.3125 -4.988281 4.359375 -4.753906 4.359375 -4.484375 C 4.359375 -4.273438 4.320312 -4.078125 4.25 -3.890625 C 4.175781 -3.710938 4.078125 -3.539062 3.953125 -3.375 C 3.828125 -3.207031 3.6875 -3.046875 3.53125 -2.890625 C 3.375 -2.742188 3.207031 -2.59375 3.03125 -2.4375 C 2.851562 -2.289062 2.675781 -2.144531 2.5 -2 C 2.320312 -1.863281 2.15625 -1.722656 2 -1.578125 C 1.84375 -1.429688 1.703125 -1.28125 1.578125 -1.125 C 1.453125 -0.976562 1.359375 -0.820312 1.296875 -0.65625 L 4.453125 -0.65625 L 4.453125 0 Z M 0.4375 0 \"/>\n",
       "</symbol>\n",
       "<symbol overflow=\"visible\" id=\"glyph0-4\">\n",
       "<path style=\"stroke:none;\" d=\"M 4.5 -1.671875 C 4.5 -1.390625 4.453125 -1.140625 4.359375 -0.921875 C 4.273438 -0.703125 4.144531 -0.519531 3.96875 -0.375 C 3.800781 -0.226562 3.585938 -0.113281 3.328125 -0.03125 C 3.078125 0.0390625 2.785156 0.078125 2.453125 0.078125 C 2.078125 0.078125 1.757812 0.0351562 1.5 -0.046875 C 1.25 -0.140625 1.039062 -0.265625 0.875 -0.421875 C 0.707031 -0.578125 0.582031 -0.75 0.5 -0.9375 C 0.414062 -1.132812 0.359375 -1.34375 0.328125 -1.5625 L 1.140625 -1.625 C 1.160156 -1.46875 1.203125 -1.320312 1.265625 -1.1875 C 1.328125 -1.0625 1.410156 -0.945312 1.515625 -0.84375 C 1.617188 -0.75 1.75 -0.675781 1.90625 -0.625 C 2.0625 -0.570312 2.242188 -0.546875 2.453125 -0.546875 C 2.835938 -0.546875 3.140625 -0.640625 3.359375 -0.828125 C 3.585938 -1.023438 3.703125 -1.316406 3.703125 -1.703125 C 3.703125 -1.921875 3.648438 -2.097656 3.546875 -2.234375 C 3.453125 -2.367188 3.332031 -2.472656 3.1875 -2.546875 C 3.039062 -2.628906 2.878906 -2.679688 2.703125 -2.703125 C 2.523438 -2.734375 2.363281 -2.75 2.21875 -2.75 L 1.78125 -2.75 L 1.78125 -3.421875 L 2.203125 -3.421875 C 2.347656 -3.421875 2.5 -3.429688 2.65625 -3.453125 C 2.820312 -3.484375 2.96875 -3.535156 3.09375 -3.609375 C 3.226562 -3.691406 3.335938 -3.800781 3.421875 -3.9375 C 3.503906 -4.070312 3.546875 -4.242188 3.546875 -4.453125 C 3.546875 -4.773438 3.445312 -5.03125 3.25 -5.21875 C 3.0625 -5.40625 2.78125 -5.5 2.40625 -5.5 C 2.070312 -5.5 1.796875 -5.410156 1.578125 -5.234375 C 1.367188 -5.066406 1.25 -4.820312 1.21875 -4.5 L 0.4375 -4.5625 C 0.46875 -4.832031 0.539062 -5.066406 0.65625 -5.265625 C 0.769531 -5.460938 0.914062 -5.625 1.09375 -5.75 C 1.269531 -5.882812 1.46875 -5.984375 1.6875 -6.046875 C 1.914062 -6.109375 2.160156 -6.140625 2.421875 -6.140625 C 2.753906 -6.140625 3.039062 -6.097656 3.28125 -6.015625 C 3.53125 -5.929688 3.734375 -5.816406 3.890625 -5.671875 C 4.046875 -5.523438 4.160156 -5.351562 4.234375 -5.15625 C 4.304688 -4.96875 4.34375 -4.765625 4.34375 -4.546875 C 4.34375 -4.367188 4.316406 -4.203125 4.265625 -4.046875 C 4.210938 -3.890625 4.132812 -3.75 4.03125 -3.625 C 3.9375 -3.5 3.804688 -3.390625 3.640625 -3.296875 C 3.484375 -3.210938 3.296875 -3.148438 3.078125 -3.109375 L 3.078125 -3.09375 C 3.316406 -3.0625 3.523438 -3.003906 3.703125 -2.921875 C 3.890625 -2.835938 4.039062 -2.734375 4.15625 -2.609375 C 4.269531 -2.484375 4.351562 -2.335938 4.40625 -2.171875 C 4.46875 -2.015625 4.5 -1.847656 4.5 -1.671875 Z M 4.5 -1.671875 \"/>\n",
       "</symbol>\n",
       "<symbol overflow=\"visible\" id=\"glyph0-5\">\n",
       "<path style=\"stroke:none;\" d=\"M 0.796875 0 L 0.796875 -0.9375 L 1.640625 -0.9375 L 1.640625 0 Z M 0.796875 0 \"/>\n",
       "</symbol>\n",
       "<symbol overflow=\"visible\" id=\"glyph0-6\">\n",
       "<path style=\"stroke:none;\" d=\"M 4.515625 -1.96875 C 4.515625 -1.664062 4.46875 -1.390625 4.375 -1.140625 C 4.289062 -0.890625 4.15625 -0.671875 3.96875 -0.484375 C 3.789062 -0.304688 3.566406 -0.164062 3.296875 -0.0625 C 3.035156 0.03125 2.726562 0.078125 2.375 0.078125 C 2.0625 0.078125 1.785156 0.0390625 1.546875 -0.03125 C 1.304688 -0.101562 1.101562 -0.203125 0.9375 -0.328125 C 0.78125 -0.460938 0.648438 -0.613281 0.546875 -0.78125 C 0.453125 -0.957031 0.390625 -1.148438 0.359375 -1.359375 L 1.140625 -1.4375 C 1.171875 -1.320312 1.210938 -1.210938 1.265625 -1.109375 C 1.328125 -1.003906 1.40625 -0.910156 1.5 -0.828125 C 1.601562 -0.742188 1.722656 -0.675781 1.859375 -0.625 C 2.003906 -0.570312 2.179688 -0.546875 2.390625 -0.546875 C 2.585938 -0.546875 2.769531 -0.578125 2.9375 -0.640625 C 3.101562 -0.703125 3.242188 -0.789062 3.359375 -0.90625 C 3.472656 -1.03125 3.5625 -1.175781 3.625 -1.34375 C 3.6875 -1.519531 3.71875 -1.722656 3.71875 -1.953125 C 3.71875 -2.140625 3.6875 -2.3125 3.625 -2.46875 C 3.570312 -2.625 3.488281 -2.757812 3.375 -2.875 C 3.257812 -2.988281 3.117188 -3.078125 2.953125 -3.140625 C 2.796875 -3.203125 2.613281 -3.234375 2.40625 -3.234375 C 2.28125 -3.234375 2.160156 -3.21875 2.046875 -3.1875 C 1.941406 -3.164062 1.84375 -3.132812 1.75 -3.09375 C 1.65625 -3.0625 1.570312 -3.015625 1.5 -2.953125 C 1.425781 -2.898438 1.351562 -2.847656 1.28125 -2.796875 L 0.53125 -2.796875 L 0.734375 -6.046875 L 4.171875 -6.046875 L 4.171875 -5.390625 L 1.4375 -5.390625 L 1.3125 -3.46875 C 1.457031 -3.582031 1.628906 -3.675781 1.828125 -3.75 C 2.035156 -3.820312 2.28125 -3.859375 2.5625 -3.859375 C 2.863281 -3.859375 3.132812 -3.8125 3.375 -3.71875 C 3.613281 -3.632812 3.816406 -3.503906 3.984375 -3.328125 C 4.160156 -3.160156 4.289062 -2.960938 4.375 -2.734375 C 4.46875 -2.503906 4.515625 -2.25 4.515625 -1.96875 Z M 4.515625 -1.96875 \"/>\n",
       "</symbol>\n",
       "<symbol overflow=\"visible\" id=\"glyph1-0\">\n",
       "<path style=\"stroke:none;\" d=\"M 0.359375 0 L 0.359375 -7.328125 L 3.28125 -7.328125 L 3.28125 0 Z M 0.734375 -0.359375 L 2.921875 -0.359375 L 2.921875 -6.96875 L 0.734375 -6.96875 Z M 0.734375 -0.359375 \"/>\n",
       "</symbol>\n",
       "<symbol overflow=\"visible\" id=\"glyph1-1\">\n",
       "<path style=\"stroke:none;\" d=\"M 5.65625 -2.9375 C 5.65625 -2.488281 5.617188 -2.078125 5.546875 -1.703125 C 5.472656 -1.335938 5.351562 -1.019531 5.1875 -0.75 C 5.019531 -0.476562 4.800781 -0.265625 4.53125 -0.109375 C 4.257812 0.0351562 3.921875 0.109375 3.515625 0.109375 C 3.097656 0.109375 2.734375 0.03125 2.421875 -0.125 C 2.109375 -0.28125 1.875 -0.539062 1.71875 -0.90625 L 1.6875 -0.90625 C 1.6875 -0.894531 1.6875 -0.859375 1.6875 -0.796875 C 1.695312 -0.742188 1.703125 -0.675781 1.703125 -0.59375 C 1.703125 -0.507812 1.703125 -0.410156 1.703125 -0.296875 C 1.703125 -0.191406 1.703125 -0.0859375 1.703125 0.015625 L 1.703125 2.28125 L 0.734375 2.28125 L 0.734375 -4.625 C 0.734375 -4.757812 0.734375 -4.890625 0.734375 -5.015625 C 0.734375 -5.148438 0.726562 -5.269531 0.71875 -5.375 C 0.71875 -5.476562 0.71875 -5.566406 0.71875 -5.640625 C 0.71875 -5.722656 0.710938 -5.78125 0.703125 -5.8125 L 1.640625 -5.8125 C 1.648438 -5.800781 1.65625 -5.765625 1.65625 -5.703125 C 1.664062 -5.640625 1.671875 -5.5625 1.671875 -5.46875 C 1.679688 -5.375 1.6875 -5.273438 1.6875 -5.171875 C 1.695312 -5.066406 1.703125 -4.96875 1.703125 -4.875 L 1.71875 -4.875 C 1.8125 -5.0625 1.914062 -5.21875 2.03125 -5.34375 C 2.144531 -5.476562 2.273438 -5.585938 2.421875 -5.671875 C 2.566406 -5.753906 2.726562 -5.8125 2.90625 -5.84375 C 3.09375 -5.882812 3.296875 -5.90625 3.515625 -5.90625 C 3.921875 -5.90625 4.257812 -5.832031 4.53125 -5.6875 C 4.800781 -5.550781 5.019531 -5.351562 5.1875 -5.09375 C 5.351562 -4.832031 5.472656 -4.519531 5.546875 -4.15625 C 5.617188 -3.789062 5.65625 -3.382812 5.65625 -2.9375 Z M 4.640625 -2.90625 C 4.640625 -3.269531 4.617188 -3.585938 4.578125 -3.859375 C 4.535156 -4.140625 4.457031 -4.375 4.34375 -4.5625 C 4.238281 -4.757812 4.097656 -4.910156 3.921875 -5.015625 C 3.753906 -5.117188 3.535156 -5.171875 3.265625 -5.171875 C 3.054688 -5.171875 2.851562 -5.140625 2.65625 -5.078125 C 2.46875 -5.015625 2.300781 -4.894531 2.15625 -4.71875 C 2.019531 -4.550781 1.910156 -4.316406 1.828125 -4.015625 C 1.742188 -3.710938 1.703125 -3.320312 1.703125 -2.84375 C 1.703125 -2.425781 1.734375 -2.070312 1.796875 -1.78125 C 1.867188 -1.5 1.96875 -1.269531 2.09375 -1.09375 C 2.226562 -0.925781 2.394531 -0.800781 2.59375 -0.71875 C 2.789062 -0.644531 3.015625 -0.609375 3.265625 -0.609375 C 3.523438 -0.609375 3.742188 -0.660156 3.921875 -0.765625 C 4.097656 -0.867188 4.238281 -1.019531 4.34375 -1.21875 C 4.457031 -1.414062 4.535156 -1.65625 4.578125 -1.9375 C 4.617188 -2.21875 4.640625 -2.539062 4.640625 -2.90625 Z M 4.640625 -2.90625 \"/>\n",
       "</symbol>\n",
       "<symbol overflow=\"visible\" id=\"glyph1-2\">\n",
       "<path style=\"stroke:none;\" d=\"M 0.765625 0 L 0.765625 -4.453125 C 0.765625 -4.578125 0.757812 -4.703125 0.75 -4.828125 C 0.75 -4.953125 0.75 -5.070312 0.75 -5.1875 C 0.75 -5.3125 0.742188 -5.425781 0.734375 -5.53125 C 0.734375 -5.632812 0.734375 -5.726562 0.734375 -5.8125 L 1.640625 -5.8125 C 1.648438 -5.726562 1.65625 -5.632812 1.65625 -5.53125 C 1.664062 -5.425781 1.671875 -5.316406 1.671875 -5.203125 C 1.679688 -5.085938 1.6875 -4.976562 1.6875 -4.875 C 1.6875 -4.78125 1.6875 -4.695312 1.6875 -4.625 L 1.703125 -4.625 C 1.773438 -4.84375 1.847656 -5.035156 1.921875 -5.203125 C 2.003906 -5.367188 2.097656 -5.503906 2.203125 -5.609375 C 2.304688 -5.710938 2.425781 -5.789062 2.5625 -5.84375 C 2.707031 -5.894531 2.882812 -5.921875 3.09375 -5.921875 C 3.164062 -5.921875 3.238281 -5.910156 3.3125 -5.890625 C 3.382812 -5.878906 3.441406 -5.867188 3.484375 -5.859375 L 3.484375 -4.984375 C 3.421875 -4.992188 3.34375 -5.003906 3.25 -5.015625 C 3.164062 -5.023438 3.070312 -5.03125 2.96875 -5.03125 C 2.738281 -5.03125 2.546875 -4.976562 2.390625 -4.875 C 2.242188 -4.78125 2.117188 -4.644531 2.015625 -4.46875 C 1.921875 -4.289062 1.847656 -4.078125 1.796875 -3.828125 C 1.753906 -3.585938 1.734375 -3.320312 1.734375 -3.03125 L 1.734375 0 Z M 0.765625 0 \"/>\n",
       "</symbol>\n",
       "<symbol overflow=\"visible\" id=\"glyph1-3\">\n",
       "<path style=\"stroke:none;\" d=\"M 5.65625 -2.90625 C 5.65625 -1.894531 5.429688 -1.140625 4.984375 -0.640625 C 4.535156 -0.140625 3.882812 0.109375 3.03125 0.109375 C 2.625 0.109375 2.257812 0.046875 1.9375 -0.078125 C 1.625 -0.203125 1.359375 -0.390625 1.140625 -0.640625 C 0.921875 -0.890625 0.753906 -1.203125 0.640625 -1.578125 C 0.523438 -1.953125 0.46875 -2.394531 0.46875 -2.90625 C 0.46875 -4.914062 1.332031 -5.921875 3.0625 -5.921875 C 3.519531 -5.921875 3.910156 -5.859375 4.234375 -5.734375 C 4.566406 -5.609375 4.835938 -5.421875 5.046875 -5.171875 C 5.253906 -4.921875 5.40625 -4.601562 5.5 -4.21875 C 5.601562 -3.84375 5.65625 -3.40625 5.65625 -2.90625 Z M 4.640625 -2.90625 C 4.640625 -3.363281 4.601562 -3.738281 4.53125 -4.03125 C 4.46875 -4.320312 4.367188 -4.554688 4.234375 -4.734375 C 4.097656 -4.910156 3.929688 -5.03125 3.734375 -5.09375 C 3.546875 -5.164062 3.328125 -5.203125 3.078125 -5.203125 C 2.835938 -5.203125 2.613281 -5.164062 2.40625 -5.09375 C 2.207031 -5.019531 2.039062 -4.894531 1.90625 -4.71875 C 1.769531 -4.539062 1.664062 -4.304688 1.59375 -4.015625 C 1.519531 -3.722656 1.484375 -3.351562 1.484375 -2.90625 C 1.484375 -2.457031 1.519531 -2.082031 1.59375 -1.78125 C 1.675781 -1.488281 1.785156 -1.253906 1.921875 -1.078125 C 2.054688 -0.910156 2.21875 -0.789062 2.40625 -0.71875 C 2.59375 -0.644531 2.800781 -0.609375 3.03125 -0.609375 C 3.269531 -0.609375 3.488281 -0.640625 3.6875 -0.703125 C 3.894531 -0.773438 4.066406 -0.898438 4.203125 -1.078125 C 4.347656 -1.253906 4.457031 -1.488281 4.53125 -1.78125 C 4.601562 -2.082031 4.640625 -2.457031 4.640625 -2.90625 Z M 4.640625 -2.90625 \"/>\n",
       "</symbol>\n",
       "<symbol overflow=\"visible\" id=\"glyph2-0\">\n",
       "<path style=\"stroke:none;\" d=\"M 0 -0.359375 L -7.328125 -0.359375 L -7.328125 -3.28125 L 0 -3.28125 Z M -0.359375 -0.734375 L -0.359375 -2.921875 L -6.96875 -2.921875 L -6.96875 -0.734375 Z M -0.359375 -0.734375 \"/>\n",
       "</symbol>\n",
       "<symbol overflow=\"visible\" id=\"glyph2-1\">\n",
       "<path style=\"stroke:none;\" d=\"M -0.9375 -4.40625 C -0.5625 -4.226562 -0.289062 -3.988281 -0.125 -3.6875 C 0.03125 -3.394531 0.109375 -3.03125 0.109375 -2.59375 C 0.109375 -1.863281 -0.132812 -1.328125 -0.625 -0.984375 C -1.125 -0.640625 -1.875 -0.46875 -2.875 -0.46875 C -4.90625 -0.46875 -5.921875 -1.175781 -5.921875 -2.59375 C -5.921875 -3.039062 -5.835938 -3.410156 -5.671875 -3.703125 C -5.515625 -3.992188 -5.257812 -4.226562 -4.90625 -4.40625 L -4.90625 -4.421875 C -4.945312 -4.421875 -5.003906 -4.421875 -5.078125 -4.421875 C -5.148438 -4.421875 -5.226562 -4.414062 -5.3125 -4.40625 C -5.40625 -4.40625 -5.488281 -4.40625 -5.5625 -4.40625 C -5.632812 -4.40625 -5.6875 -4.40625 -5.71875 -4.40625 L -7.96875 -4.40625 L -7.96875 -5.375 L -1.203125 -5.375 C -1.054688 -5.375 -0.921875 -5.375 -0.796875 -5.375 C -0.671875 -5.375 -0.550781 -5.375 -0.4375 -5.375 C -0.332031 -5.382812 -0.238281 -5.390625 -0.15625 -5.390625 C -0.0820312 -5.398438 -0.03125 -5.40625 0 -5.40625 L 0 -4.484375 C -0.03125 -4.472656 -0.078125 -4.460938 -0.140625 -4.453125 C -0.210938 -4.453125 -0.289062 -4.445312 -0.375 -4.4375 C -0.46875 -4.4375 -0.5625 -4.4375 -0.65625 -4.4375 C -0.75 -4.4375 -0.84375 -4.4375 -0.9375 -4.4375 Z M -2.90625 -1.484375 C -2.507812 -1.484375 -2.164062 -1.503906 -1.875 -1.546875 C -1.59375 -1.597656 -1.359375 -1.675781 -1.171875 -1.78125 C -0.984375 -1.894531 -0.847656 -2.035156 -0.765625 -2.203125 C -0.679688 -2.378906 -0.640625 -2.59375 -0.640625 -2.84375 C -0.640625 -3.101562 -0.679688 -3.328125 -0.765625 -3.515625 C -0.847656 -3.710938 -0.976562 -3.875 -1.15625 -4 C -1.34375 -4.132812 -1.582031 -4.234375 -1.875 -4.296875 C -2.175781 -4.367188 -2.539062 -4.40625 -2.96875 -4.40625 C -3.382812 -4.40625 -3.734375 -4.367188 -4.015625 -4.296875 C -4.304688 -4.234375 -4.535156 -4.132812 -4.703125 -4 C -4.878906 -3.875 -5.003906 -3.710938 -5.078125 -3.515625 C -5.160156 -3.328125 -5.203125 -3.109375 -5.203125 -2.859375 C -5.203125 -2.617188 -5.160156 -2.410156 -5.078125 -2.234375 C -4.992188 -2.066406 -4.859375 -1.925781 -4.671875 -1.8125 C -4.492188 -1.695312 -4.257812 -1.613281 -3.96875 -1.5625 C -3.675781 -1.507812 -3.320312 -1.484375 -2.90625 -1.484375 Z M -2.90625 -1.484375 \"/>\n",
       "</symbol>\n",
       "<symbol overflow=\"visible\" id=\"glyph2-2\">\n",
       "<path style=\"stroke:none;\" d=\"M -2.703125 -1.484375 C -2.398438 -1.484375 -2.117188 -1.515625 -1.859375 -1.578125 C -1.609375 -1.640625 -1.390625 -1.734375 -1.203125 -1.859375 C -1.015625 -1.992188 -0.867188 -2.160156 -0.765625 -2.359375 C -0.671875 -2.566406 -0.625 -2.816406 -0.625 -3.109375 C -0.625 -3.523438 -0.707031 -3.859375 -0.875 -4.109375 C -1.039062 -4.359375 -1.253906 -4.53125 -1.515625 -4.625 L -1.265625 -5.46875 C -1.109375 -5.40625 -0.945312 -5.316406 -0.78125 -5.203125 C -0.613281 -5.097656 -0.460938 -4.953125 -0.328125 -4.765625 C -0.203125 -4.585938 -0.0976562 -4.363281 -0.015625 -4.09375 C 0.0664062 -3.820312 0.109375 -3.492188 0.109375 -3.109375 C 0.109375 -2.242188 -0.144531 -1.585938 -0.65625 -1.140625 C -1.164062 -0.691406 -1.925781 -0.46875 -2.9375 -0.46875 C -3.488281 -0.46875 -3.953125 -0.535156 -4.328125 -0.671875 C -4.703125 -0.804688 -5.007812 -0.988281 -5.25 -1.21875 C -5.488281 -1.457031 -5.660156 -1.734375 -5.765625 -2.046875 C -5.867188 -2.367188 -5.921875 -2.707031 -5.921875 -3.0625 C -5.921875 -3.550781 -5.84375 -3.957031 -5.6875 -4.28125 C -5.53125 -4.613281 -5.3125 -4.878906 -5.03125 -5.078125 C -4.75 -5.273438 -4.421875 -5.414062 -4.046875 -5.5 C -3.671875 -5.582031 -3.265625 -5.625 -2.828125 -5.625 L -2.703125 -5.625 Z M -3.4375 -4.625 C -4.050781 -4.570312 -4.5 -4.414062 -4.78125 -4.15625 C -5.0625 -3.90625 -5.203125 -3.535156 -5.203125 -3.046875 C -5.203125 -2.890625 -5.175781 -2.722656 -5.125 -2.546875 C -5.070312 -2.367188 -4.976562 -2.203125 -4.84375 -2.046875 C -4.71875 -1.898438 -4.539062 -1.773438 -4.3125 -1.671875 C -4.082031 -1.566406 -3.789062 -1.507812 -3.4375 -1.5 Z M -3.4375 -4.625 \"/>\n",
       "</symbol>\n",
       "<symbol overflow=\"visible\" id=\"glyph2-3\">\n",
       "<path style=\"stroke:none;\" d=\"M 0 -4.4375 L -3.6875 -4.4375 C -3.96875 -4.4375 -4.203125 -4.414062 -4.390625 -4.375 C -4.578125 -4.332031 -4.726562 -4.265625 -4.84375 -4.171875 C -4.96875 -4.078125 -5.050781 -3.953125 -5.09375 -3.796875 C -5.144531 -3.648438 -5.171875 -3.460938 -5.171875 -3.234375 C -5.171875 -3.003906 -5.128906 -2.796875 -5.046875 -2.609375 C -4.972656 -2.429688 -4.859375 -2.273438 -4.703125 -2.140625 C -4.546875 -2.003906 -4.351562 -1.898438 -4.125 -1.828125 C -3.90625 -1.765625 -3.65625 -1.734375 -3.375 -1.734375 L 0 -1.734375 L 0 -0.765625 L -4.578125 -0.765625 C -4.691406 -0.765625 -4.816406 -0.757812 -4.953125 -0.75 C -5.085938 -0.75 -5.210938 -0.75 -5.328125 -0.75 C -5.453125 -0.75 -5.554688 -0.742188 -5.640625 -0.734375 C -5.734375 -0.734375 -5.789062 -0.734375 -5.8125 -0.734375 L -5.8125 -1.640625 C -5.789062 -1.648438 -5.738281 -1.65625 -5.65625 -1.65625 C -5.582031 -1.65625 -5.492188 -1.65625 -5.390625 -1.65625 C -5.296875 -1.664062 -5.191406 -1.671875 -5.078125 -1.671875 C -4.972656 -1.679688 -4.882812 -1.6875 -4.8125 -1.6875 L -4.8125 -1.703125 C -4.988281 -1.796875 -5.144531 -1.894531 -5.28125 -2 C -5.414062 -2.113281 -5.53125 -2.242188 -5.625 -2.390625 C -5.71875 -2.535156 -5.789062 -2.703125 -5.84375 -2.890625 C -5.894531 -3.085938 -5.921875 -3.3125 -5.921875 -3.5625 C -5.921875 -3.882812 -5.878906 -4.160156 -5.796875 -4.390625 C -5.722656 -4.628906 -5.601562 -4.820312 -5.4375 -4.96875 C -5.269531 -5.113281 -5.054688 -5.222656 -4.796875 -5.296875 C -4.535156 -5.367188 -4.226562 -5.40625 -3.875 -5.40625 L 0 -5.40625 Z M 0 -4.4375 \"/>\n",
       "</symbol>\n",
       "<symbol overflow=\"visible\" id=\"glyph2-4\">\n",
       "<path style=\"stroke:none;\" d=\"M -1.609375 -5.109375 C -1.335938 -5.109375 -1.09375 -5.050781 -0.875 -4.9375 C -0.664062 -4.832031 -0.488281 -4.679688 -0.34375 -4.484375 C -0.195312 -4.285156 -0.0820312 -4.039062 0 -3.75 C 0.0703125 -3.457031 0.109375 -3.125 0.109375 -2.75 C 0.109375 -2.40625 0.0820312 -2.097656 0.03125 -1.828125 C -0.0195312 -1.554688 -0.101562 -1.316406 -0.21875 -1.109375 C -0.332031 -0.910156 -0.484375 -0.742188 -0.671875 -0.609375 C -0.859375 -0.472656 -1.085938 -0.375 -1.359375 -0.3125 L -1.53125 -1.15625 C -1.21875 -1.238281 -0.988281 -1.410156 -0.84375 -1.671875 C -0.695312 -1.929688 -0.625 -2.289062 -0.625 -2.75 C -0.625 -2.957031 -0.640625 -3.144531 -0.671875 -3.3125 C -0.703125 -3.488281 -0.75 -3.640625 -0.8125 -3.765625 C -0.882812 -3.890625 -0.976562 -3.984375 -1.09375 -4.046875 C -1.207031 -4.117188 -1.351562 -4.15625 -1.53125 -4.15625 C -1.707031 -4.15625 -1.847656 -4.113281 -1.953125 -4.03125 C -2.066406 -3.957031 -2.160156 -3.84375 -2.234375 -3.6875 C -2.316406 -3.539062 -2.382812 -3.363281 -2.4375 -3.15625 C -2.5 -2.945312 -2.5625 -2.71875 -2.625 -2.46875 C -2.6875 -2.238281 -2.753906 -2.007812 -2.828125 -1.78125 C -2.898438 -1.550781 -3 -1.34375 -3.125 -1.15625 C -3.25 -0.96875 -3.398438 -0.816406 -3.578125 -0.703125 C -3.765625 -0.585938 -4 -0.53125 -4.28125 -0.53125 C -4.8125 -0.53125 -5.210938 -0.71875 -5.484375 -1.09375 C -5.765625 -1.476562 -5.90625 -2.03125 -5.90625 -2.75 C -5.90625 -3.394531 -5.789062 -3.90625 -5.5625 -4.28125 C -5.332031 -4.65625 -4.972656 -4.894531 -4.484375 -5 L -4.375 -4.125 C -4.519531 -4.09375 -4.644531 -4.035156 -4.75 -3.953125 C -4.851562 -3.867188 -4.9375 -3.765625 -5 -3.640625 C -5.0625 -3.515625 -5.101562 -3.375 -5.125 -3.21875 C -5.15625 -3.070312 -5.171875 -2.914062 -5.171875 -2.75 C -5.171875 -2.3125 -5.101562 -1.988281 -4.96875 -1.78125 C -4.84375 -1.582031 -4.644531 -1.484375 -4.375 -1.484375 C -4.21875 -1.484375 -4.085938 -1.519531 -3.984375 -1.59375 C -3.878906 -1.664062 -3.789062 -1.769531 -3.71875 -1.90625 C -3.65625 -2.050781 -3.597656 -2.21875 -3.546875 -2.40625 C -3.492188 -2.601562 -3.4375 -2.816406 -3.375 -3.046875 C -3.332031 -3.203125 -3.289062 -3.359375 -3.25 -3.515625 C -3.207031 -3.679688 -3.15625 -3.835938 -3.09375 -3.984375 C -3.03125 -4.140625 -2.957031 -4.285156 -2.875 -4.421875 C -2.789062 -4.554688 -2.6875 -4.671875 -2.5625 -4.765625 C -2.445312 -4.867188 -2.3125 -4.953125 -2.15625 -5.015625 C -2 -5.078125 -1.816406 -5.109375 -1.609375 -5.109375 Z M -1.609375 -5.109375 \"/>\n",
       "</symbol>\n",
       "<symbol overflow=\"visible\" id=\"glyph2-5\">\n",
       "<path style=\"stroke:none;\" d=\"M -7.046875 -0.734375 L -7.96875 -0.734375 L -7.96875 -1.703125 L -7.046875 -1.703125 Z M 0 -0.734375 L -5.8125 -0.734375 L -5.8125 -1.703125 L 0 -1.703125 Z M 0 -0.734375 \"/>\n",
       "</symbol>\n",
       "<symbol overflow=\"visible\" id=\"glyph2-6\">\n",
       "<path style=\"stroke:none;\" d=\"M -0.046875 -2.96875 C -0.00390625 -2.820312 0.0234375 -2.671875 0.046875 -2.515625 C 0.078125 -2.367188 0.09375 -2.195312 0.09375 -2 C 0.09375 -1.226562 -0.347656 -0.84375 -1.234375 -0.84375 L -5.109375 -0.84375 L -5.109375 -0.171875 L -5.8125 -0.171875 L -5.8125 -0.875 L -7.109375 -1.15625 L -7.109375 -1.8125 L -5.8125 -1.8125 L -5.8125 -2.875 L -5.109375 -2.875 L -5.109375 -1.8125 L -1.4375 -1.8125 C -1.15625 -1.8125 -0.957031 -1.851562 -0.84375 -1.9375 C -0.738281 -2.03125 -0.6875 -2.191406 -0.6875 -2.421875 C -0.6875 -2.515625 -0.691406 -2.601562 -0.703125 -2.6875 C -0.710938 -2.769531 -0.726562 -2.863281 -0.75 -2.96875 Z M -0.046875 -2.96875 \"/>\n",
       "</symbol>\n",
       "<symbol overflow=\"visible\" id=\"glyph2-7\">\n",
       "<path style=\"stroke:none;\" d=\"M 0 -3.25 C 0.351562 -3.113281 0.671875 -2.972656 0.953125 -2.828125 C 1.234375 -2.679688 1.472656 -2.519531 1.671875 -2.34375 C 1.867188 -2.175781 2.019531 -1.984375 2.125 -1.765625 C 2.226562 -1.546875 2.28125 -1.300781 2.28125 -1.03125 C 2.28125 -0.90625 2.273438 -0.789062 2.265625 -0.6875 C 2.265625 -0.582031 2.25 -0.472656 2.21875 -0.359375 L 1.5 -0.359375 C 1.507812 -0.429688 1.515625 -0.507812 1.515625 -0.59375 C 1.523438 -0.675781 1.53125 -0.75 1.53125 -0.8125 C 1.53125 -1.09375 1.421875 -1.351562 1.203125 -1.59375 C 0.992188 -1.84375 0.660156 -2.054688 0.203125 -2.234375 L -0.03125 -2.328125 L -5.8125 -0.03125 L -5.8125 -1.0625 L -2.59375 -2.28125 C -2.5 -2.320312 -2.367188 -2.367188 -2.203125 -2.421875 C -2.046875 -2.472656 -1.882812 -2.523438 -1.71875 -2.578125 C -1.5625 -2.640625 -1.414062 -2.691406 -1.28125 -2.734375 C -1.15625 -2.773438 -1.078125 -2.800781 -1.046875 -2.8125 C -1.085938 -2.820312 -1.164062 -2.847656 -1.28125 -2.890625 C -1.40625 -2.929688 -1.535156 -2.976562 -1.671875 -3.03125 C -1.816406 -3.082031 -1.960938 -3.132812 -2.109375 -3.1875 C -2.253906 -3.238281 -2.382812 -3.28125 -2.5 -3.3125 L -5.8125 -4.453125 L -5.8125 -5.484375 Z M 0 -3.25 \"/>\n",
       "</symbol>\n",
       "</g>\n",
       "<clipPath id=\"clip1\">\n",
       "  <path d=\"M 33.152344 5.480469 L 498.523438 5.480469 L 498.523438 471.851562 L 33.152344 471.851562 Z M 33.152344 5.480469 \"/>\n",
       "</clipPath>\n",
       "<clipPath id=\"clip2\">\n",
       "  <path d=\"M 33.152344 388 L 498.523438 388 L 498.523438 389 L 33.152344 389 Z M 33.152344 388 \"/>\n",
       "</clipPath>\n",
       "<clipPath id=\"clip3\">\n",
       "  <path d=\"M 33.152344 263 L 498.523438 263 L 498.523438 265 L 33.152344 265 Z M 33.152344 263 \"/>\n",
       "</clipPath>\n",
       "<clipPath id=\"clip4\">\n",
       "  <path d=\"M 33.152344 139 L 498.523438 139 L 498.523438 140 L 33.152344 140 Z M 33.152344 139 \"/>\n",
       "</clipPath>\n",
       "<clipPath id=\"clip5\">\n",
       "  <path d=\"M 33.152344 15 L 498.523438 15 L 498.523438 16 L 33.152344 16 Z M 33.152344 15 \"/>\n",
       "</clipPath>\n",
       "<clipPath id=\"clip6\">\n",
       "  <path d=\"M 38 5.480469 L 40 5.480469 L 40 471.851562 L 38 471.851562 Z M 38 5.480469 \"/>\n",
       "</clipPath>\n",
       "<clipPath id=\"clip7\">\n",
       "  <path d=\"M 170 5.480469 L 172 5.480469 L 172 471.851562 L 170 471.851562 Z M 170 5.480469 \"/>\n",
       "</clipPath>\n",
       "<clipPath id=\"clip8\">\n",
       "  <path d=\"M 302 5.480469 L 304 5.480469 L 304 471.851562 L 302 471.851562 Z M 302 5.480469 \"/>\n",
       "</clipPath>\n",
       "<clipPath id=\"clip9\">\n",
       "  <path d=\"M 434 5.480469 L 436 5.480469 L 436 471.851562 L 434 471.851562 Z M 434 5.480469 \"/>\n",
       "</clipPath>\n",
       "<clipPath id=\"clip10\">\n",
       "  <path d=\"M 33.152344 450 L 498.523438 450 L 498.523438 452 L 33.152344 452 Z M 33.152344 450 \"/>\n",
       "</clipPath>\n",
       "<clipPath id=\"clip11\">\n",
       "  <path d=\"M 33.152344 325 L 498.523438 325 L 498.523438 327 L 33.152344 327 Z M 33.152344 325 \"/>\n",
       "</clipPath>\n",
       "<clipPath id=\"clip12\">\n",
       "  <path d=\"M 33.152344 201 L 498.523438 201 L 498.523438 203 L 33.152344 203 Z M 33.152344 201 \"/>\n",
       "</clipPath>\n",
       "<clipPath id=\"clip13\">\n",
       "  <path d=\"M 33.152344 77 L 498.523438 77 L 498.523438 79 L 33.152344 79 Z M 33.152344 77 \"/>\n",
       "</clipPath>\n",
       "<clipPath id=\"clip14\">\n",
       "  <path d=\"M 104 5.480469 L 106 5.480469 L 106 471.851562 L 104 471.851562 Z M 104 5.480469 \"/>\n",
       "</clipPath>\n",
       "<clipPath id=\"clip15\">\n",
       "  <path d=\"M 236 5.480469 L 238 5.480469 L 238 471.851562 L 236 471.851562 Z M 236 5.480469 \"/>\n",
       "</clipPath>\n",
       "<clipPath id=\"clip16\">\n",
       "  <path d=\"M 368 5.480469 L 370 5.480469 L 370 471.851562 L 368 471.851562 Z M 368 5.480469 \"/>\n",
       "</clipPath>\n",
       "</defs>\n",
       "<g id=\"surface78\">\n",
       "<rect x=\"0\" y=\"0\" width=\"504\" height=\"504\" style=\"fill:rgb(100%,100%,100%);fill-opacity:1;stroke:none;\"/>\n",
       "<rect x=\"0\" y=\"0\" width=\"504\" height=\"504\" style=\"fill:rgb(100%,100%,100%);fill-opacity:1;stroke:none;\"/>\n",
       "<path style=\"fill:none;stroke-width:1.066978;stroke-linecap:round;stroke-linejoin:round;stroke:rgb(100%,100%,100%);stroke-opacity:1;stroke-miterlimit:10;\" d=\"M 0 504 L 504 504 L 504 0 L 0 0 Z M 0 504 \"/>\n",
       "<g clip-path=\"url(#clip1)\" clip-rule=\"nonzero\">\n",
       "<path style=\" stroke:none;fill-rule:nonzero;fill:rgb(92.156863%,92.156863%,92.156863%);fill-opacity:1;\" d=\"M 33.152344 471.847656 L 498.523438 471.847656 L 498.523438 5.476562 L 33.152344 5.476562 Z M 33.152344 471.847656 \"/>\n",
       "</g>\n",
       "<g clip-path=\"url(#clip2)\" clip-rule=\"nonzero\">\n",
       "<path style=\"fill:none;stroke-width:0.533489;stroke-linecap:butt;stroke-linejoin:round;stroke:rgb(100%,100%,100%);stroke-opacity:1;stroke-miterlimit:10;\" d=\"M 33.152344 388.46875 L 498.519531 388.46875 \"/>\n",
       "</g>\n",
       "<g clip-path=\"url(#clip3)\" clip-rule=\"nonzero\">\n",
       "<path style=\"fill:none;stroke-width:0.533489;stroke-linecap:butt;stroke-linejoin:round;stroke:rgb(100%,100%,100%);stroke-opacity:1;stroke-miterlimit:10;\" d=\"M 33.152344 264.101562 L 498.519531 264.101562 \"/>\n",
       "</g>\n",
       "<g clip-path=\"url(#clip4)\" clip-rule=\"nonzero\">\n",
       "<path style=\"fill:none;stroke-width:0.533489;stroke-linecap:butt;stroke-linejoin:round;stroke:rgb(100%,100%,100%);stroke-opacity:1;stroke-miterlimit:10;\" d=\"M 33.152344 139.734375 L 498.519531 139.734375 \"/>\n",
       "</g>\n",
       "<g clip-path=\"url(#clip5)\" clip-rule=\"nonzero\">\n",
       "<path style=\"fill:none;stroke-width:0.533489;stroke-linecap:butt;stroke-linejoin:round;stroke:rgb(100%,100%,100%);stroke-opacity:1;stroke-miterlimit:10;\" d=\"M 33.152344 15.367188 L 498.519531 15.367188 \"/>\n",
       "</g>\n",
       "<g clip-path=\"url(#clip6)\" clip-rule=\"nonzero\">\n",
       "<path style=\"fill:none;stroke-width:0.533489;stroke-linecap:butt;stroke-linejoin:round;stroke:rgb(100%,100%,100%);stroke-opacity:1;stroke-miterlimit:10;\" d=\"M 38.988281 471.847656 L 38.988281 5.480469 \"/>\n",
       "</g>\n",
       "<g clip-path=\"url(#clip7)\" clip-rule=\"nonzero\">\n",
       "<path style=\"fill:none;stroke-width:0.533489;stroke-linecap:butt;stroke-linejoin:round;stroke:rgb(100%,100%,100%);stroke-opacity:1;stroke-miterlimit:10;\" d=\"M 171.0625 471.847656 L 171.0625 5.480469 \"/>\n",
       "</g>\n",
       "<g clip-path=\"url(#clip8)\" clip-rule=\"nonzero\">\n",
       "<path style=\"fill:none;stroke-width:0.533489;stroke-linecap:butt;stroke-linejoin:round;stroke:rgb(100%,100%,100%);stroke-opacity:1;stroke-miterlimit:10;\" d=\"M 303.132812 471.847656 L 303.132812 5.480469 \"/>\n",
       "</g>\n",
       "<g clip-path=\"url(#clip9)\" clip-rule=\"nonzero\">\n",
       "<path style=\"fill:none;stroke-width:0.533489;stroke-linecap:butt;stroke-linejoin:round;stroke:rgb(100%,100%,100%);stroke-opacity:1;stroke-miterlimit:10;\" d=\"M 435.207031 471.847656 L 435.207031 5.480469 \"/>\n",
       "</g>\n",
       "<g clip-path=\"url(#clip10)\" clip-rule=\"nonzero\">\n",
       "<path style=\"fill:none;stroke-width:1.066978;stroke-linecap:butt;stroke-linejoin:round;stroke:rgb(100%,100%,100%);stroke-opacity:1;stroke-miterlimit:10;\" d=\"M 33.152344 450.652344 L 498.519531 450.652344 \"/>\n",
       "</g>\n",
       "<g clip-path=\"url(#clip11)\" clip-rule=\"nonzero\">\n",
       "<path style=\"fill:none;stroke-width:1.066978;stroke-linecap:butt;stroke-linejoin:round;stroke:rgb(100%,100%,100%);stroke-opacity:1;stroke-miterlimit:10;\" d=\"M 33.152344 326.285156 L 498.519531 326.285156 \"/>\n",
       "</g>\n",
       "<g clip-path=\"url(#clip12)\" clip-rule=\"nonzero\">\n",
       "<path style=\"fill:none;stroke-width:1.066978;stroke-linecap:butt;stroke-linejoin:round;stroke:rgb(100%,100%,100%);stroke-opacity:1;stroke-miterlimit:10;\" d=\"M 33.152344 201.917969 L 498.519531 201.917969 \"/>\n",
       "</g>\n",
       "<g clip-path=\"url(#clip13)\" clip-rule=\"nonzero\">\n",
       "<path style=\"fill:none;stroke-width:1.066978;stroke-linecap:butt;stroke-linejoin:round;stroke:rgb(100%,100%,100%);stroke-opacity:1;stroke-miterlimit:10;\" d=\"M 33.152344 77.550781 L 498.519531 77.550781 \"/>\n",
       "</g>\n",
       "<g clip-path=\"url(#clip14)\" clip-rule=\"nonzero\">\n",
       "<path style=\"fill:none;stroke-width:1.066978;stroke-linecap:butt;stroke-linejoin:round;stroke:rgb(100%,100%,100%);stroke-opacity:1;stroke-miterlimit:10;\" d=\"M 105.023438 471.847656 L 105.023438 5.480469 \"/>\n",
       "</g>\n",
       "<g clip-path=\"url(#clip15)\" clip-rule=\"nonzero\">\n",
       "<path style=\"fill:none;stroke-width:1.066978;stroke-linecap:butt;stroke-linejoin:round;stroke:rgb(100%,100%,100%);stroke-opacity:1;stroke-miterlimit:10;\" d=\"M 237.097656 471.847656 L 237.097656 5.480469 \"/>\n",
       "</g>\n",
       "<g clip-path=\"url(#clip16)\" clip-rule=\"nonzero\">\n",
       "<path style=\"fill:none;stroke-width:1.066978;stroke-linecap:butt;stroke-linejoin:round;stroke:rgb(100%,100%,100%);stroke-opacity:1;stroke-miterlimit:10;\" d=\"M 369.171875 471.847656 L 369.171875 5.480469 \"/>\n",
       "</g>\n",
       "<path style=\" stroke:none;fill-rule:nonzero;fill:rgb(100%,0%,0%);fill-opacity:0.2;\" d=\"M 54.304688 450.652344 L 68.40625 450.652344 L 68.40625 448.324219 L 54.304688 448.324219 Z M 54.304688 450.652344 \"/>\n",
       "<path style=\" stroke:none;fill-rule:nonzero;fill:rgb(100%,0%,0%);fill-opacity:0.2;\" d=\"M 82.507812 450.652344 L 96.609375 450.652344 L 96.609375 436.675781 L 82.507812 436.675781 Z M 82.507812 450.652344 \"/>\n",
       "<path style=\" stroke:none;fill-rule:nonzero;fill:rgb(100%,0%,0%);fill-opacity:0.2;\" d=\"M 96.609375 450.652344 L 110.710938 450.652344 L 110.710938 408.722656 L 96.609375 408.722656 Z M 96.609375 450.652344 \"/>\n",
       "<path style=\" stroke:none;fill-rule:nonzero;fill:rgb(100%,0%,0%);fill-opacity:0.2;\" d=\"M 110.710938 450.652344 L 124.8125 450.652344 L 124.8125 406.390625 L 110.710938 406.390625 Z M 110.710938 450.652344 \"/>\n",
       "<path style=\" stroke:none;fill-rule:nonzero;fill:rgb(100%,0%,0%);fill-opacity:0.2;\" d=\"M 124.8125 450.652344 L 138.914062 450.652344 L 138.914062 317.871094 L 124.8125 317.871094 Z M 124.8125 450.652344 \"/>\n",
       "<path style=\" stroke:none;fill-rule:nonzero;fill:rgb(100%,0%,0%);fill-opacity:0.2;\" d=\"M 138.917969 450.652344 L 153.019531 450.652344 L 153.019531 236.335938 L 138.917969 236.335938 Z M 138.917969 450.652344 \"/>\n",
       "<path style=\" stroke:none;fill-rule:nonzero;fill:rgb(100%,0%,0%);fill-opacity:0.2;\" d=\"M 153.019531 450.652344 L 167.121094 450.652344 L 167.121094 129.179688 L 153.019531 129.179688 Z M 153.019531 450.652344 \"/>\n",
       "<path style=\" stroke:none;fill-rule:nonzero;fill:rgb(100%,0%,0%);fill-opacity:0.2;\" d=\"M 167.121094 450.652344 L 181.222656 450.652344 L 181.222656 138.496094 L 167.121094 138.496094 Z M 167.121094 450.652344 \"/>\n",
       "<path style=\" stroke:none;fill-rule:nonzero;fill:rgb(100%,0%,0%);fill-opacity:0.2;\" d=\"M 181.222656 450.652344 L 195.324219 450.652344 L 195.324219 26.679688 L 181.222656 26.679688 Z M 181.222656 450.652344 \"/>\n",
       "<path style=\" stroke:none;fill-rule:nonzero;fill:rgb(100%,0%,0%);fill-opacity:0.2;\" d=\"M 195.324219 450.652344 L 209.425781 450.652344 L 209.425781 108.214844 L 195.324219 108.214844 Z M 195.324219 450.652344 \"/>\n",
       "<path style=\" stroke:none;fill-rule:nonzero;fill:rgb(100%,0%,0%);fill-opacity:0.2;\" d=\"M 209.425781 450.652344 L 223.527344 450.652344 L 223.527344 266.621094 L 209.425781 266.621094 Z M 209.425781 450.652344 \"/>\n",
       "<path style=\" stroke:none;fill-rule:nonzero;fill:rgb(100%,0%,0%);fill-opacity:0.2;\" d=\"M 223.527344 450.652344 L 237.628906 450.652344 L 237.628906 275.9375 L 223.527344 275.9375 Z M 223.527344 450.652344 \"/>\n",
       "<path style=\" stroke:none;fill-rule:nonzero;fill:rgb(100%,0%,0%);fill-opacity:0.2;\" d=\"M 237.632812 450.652344 L 251.734375 450.652344 L 251.734375 378.4375 L 237.632812 378.4375 Z M 237.632812 450.652344 \"/>\n",
       "<path style=\" stroke:none;fill-rule:nonzero;fill:rgb(100%,0%,0%);fill-opacity:0.2;\" d=\"M 251.734375 450.652344 L 265.835938 450.652344 L 265.835938 418.039062 L 251.734375 418.039062 Z M 251.734375 450.652344 \"/>\n",
       "<path style=\" stroke:none;fill-rule:nonzero;fill:rgb(100%,0%,0%);fill-opacity:0.2;\" d=\"M 265.835938 450.652344 L 279.9375 450.652344 L 279.9375 436.675781 L 265.835938 436.675781 Z M 265.835938 450.652344 \"/>\n",
       "<path style=\" stroke:none;fill-rule:nonzero;fill:rgb(100%,0%,0%);fill-opacity:0.2;\" d=\"M 279.9375 450.652344 L 294.039062 450.652344 L 294.039062 448.324219 L 279.9375 448.324219 Z M 279.9375 450.652344 \"/>\n",
       "<path style=\" stroke:none;fill-rule:nonzero;fill:rgb(0%,0%,100%);fill-opacity:0.2;\" d=\"M 209.425781 450.652344 L 223.527344 450.652344 L 223.527344 441.335938 L 209.425781 441.335938 Z M 209.425781 450.652344 \"/>\n",
       "<path style=\" stroke:none;fill-rule:nonzero;fill:rgb(0%,0%,100%);fill-opacity:0.2;\" d=\"M 223.527344 450.652344 L 237.628906 450.652344 L 237.628906 445.992188 L 223.527344 445.992188 Z M 223.527344 450.652344 \"/>\n",
       "<path style=\" stroke:none;fill-rule:nonzero;fill:rgb(0%,0%,100%);fill-opacity:0.2;\" d=\"M 237.632812 450.652344 L 251.734375 450.652344 L 251.734375 415.710938 L 237.632812 415.710938 Z M 237.632812 450.652344 \"/>\n",
       "<path style=\" stroke:none;fill-rule:nonzero;fill:rgb(0%,0%,100%);fill-opacity:0.2;\" d=\"M 251.734375 450.652344 L 265.835938 450.652344 L 265.835938 406.390625 L 251.734375 406.390625 Z M 251.734375 450.652344 \"/>\n",
       "<path style=\" stroke:none;fill-rule:nonzero;fill:rgb(0%,0%,100%);fill-opacity:0.2;\" d=\"M 265.835938 450.652344 L 279.9375 450.652344 L 279.9375 350.484375 L 265.835938 350.484375 Z M 265.835938 450.652344 \"/>\n",
       "<path style=\" stroke:none;fill-rule:nonzero;fill:rgb(0%,0%,100%);fill-opacity:0.2;\" d=\"M 279.9375 450.652344 L 294.039062 450.652344 L 294.039062 261.960938 L 279.9375 261.960938 Z M 279.9375 450.652344 \"/>\n",
       "<path style=\" stroke:none;fill-rule:nonzero;fill:rgb(0%,0%,100%);fill-opacity:0.2;\" d=\"M 294.039062 450.652344 L 308.140625 450.652344 L 308.140625 224.6875 L 294.039062 224.6875 Z M 294.039062 450.652344 \"/>\n",
       "<path style=\" stroke:none;fill-rule:nonzero;fill:rgb(0%,0%,100%);fill-opacity:0.2;\" d=\"M 308.140625 450.652344 L 322.242188 450.652344 L 322.242188 63.953125 L 308.140625 63.953125 Z M 308.140625 450.652344 \"/>\n",
       "<path style=\" stroke:none;fill-rule:nonzero;fill:rgb(0%,0%,100%);fill-opacity:0.2;\" d=\"M 322.242188 450.652344 L 336.34375 450.652344 L 336.34375 105.882812 L 322.242188 105.882812 Z M 322.242188 450.652344 \"/>\n",
       "<path style=\" stroke:none;fill-rule:nonzero;fill:rgb(0%,0%,100%);fill-opacity:0.2;\" d=\"M 336.347656 450.652344 L 350.449219 450.652344 L 350.449219 140.828125 L 336.347656 140.828125 Z M 336.347656 450.652344 \"/>\n",
       "<path style=\" stroke:none;fill-rule:nonzero;fill:rgb(0%,0%,100%);fill-opacity:0.2;\" d=\"M 350.449219 450.652344 L 364.550781 450.652344 L 364.550781 213.042969 L 350.449219 213.042969 Z M 350.449219 450.652344 \"/>\n",
       "<path style=\" stroke:none;fill-rule:nonzero;fill:rgb(0%,0%,100%);fill-opacity:0.2;\" d=\"M 364.550781 450.652344 L 378.652344 450.652344 L 378.652344 278.269531 L 364.550781 278.269531 Z M 364.550781 450.652344 \"/>\n",
       "<path style=\" stroke:none;fill-rule:nonzero;fill:rgb(0%,0%,100%);fill-opacity:0.2;\" d=\"M 378.652344 450.652344 L 392.753906 450.652344 L 392.753906 327.1875 L 378.652344 327.1875 Z M 378.652344 450.652344 \"/>\n",
       "<path style=\" stroke:none;fill-rule:nonzero;fill:rgb(0%,0%,100%);fill-opacity:0.2;\" d=\"M 392.753906 450.652344 L 406.855469 450.652344 L 406.855469 364.460938 L 392.753906 364.460938 Z M 392.753906 450.652344 \"/>\n",
       "<path style=\" stroke:none;fill-rule:nonzero;fill:rgb(0%,0%,100%);fill-opacity:0.2;\" d=\"M 406.855469 450.652344 L 420.957031 450.652344 L 420.957031 415.710938 L 406.855469 415.710938 Z M 406.855469 450.652344 \"/>\n",
       "<path style=\" stroke:none;fill-rule:nonzero;fill:rgb(0%,0%,100%);fill-opacity:0.2;\" d=\"M 420.957031 450.652344 L 435.058594 450.652344 L 435.058594 434.347656 L 420.957031 434.347656 Z M 420.957031 450.652344 \"/>\n",
       "<path style=\" stroke:none;fill-rule:nonzero;fill:rgb(0%,0%,100%);fill-opacity:0.2;\" d=\"M 435.0625 450.652344 L 449.164062 450.652344 L 449.164062 443.664062 L 435.0625 443.664062 Z M 435.0625 450.652344 \"/>\n",
       "<path style=\" stroke:none;fill-rule:nonzero;fill:rgb(0%,0%,100%);fill-opacity:0.2;\" d=\"M 463.265625 450.652344 L 477.367188 450.652344 L 477.367188 448.324219 L 463.265625 448.324219 Z M 463.265625 450.652344 \"/>\n",
       "<g style=\"fill:rgb(30.196078%,30.196078%,30.196078%);fill-opacity:1;\">\n",
       "  <use xlink:href=\"#glyph0-1\" x=\"23.21875\" y=\"454.118164\"/>\n",
       "</g>\n",
       "<g style=\"fill:rgb(30.196078%,30.196078%,30.196078%);fill-opacity:1;\">\n",
       "  <use xlink:href=\"#glyph0-2\" x=\"18.21875\" y=\"329.750977\"/>\n",
       "  <use xlink:href=\"#glyph0-1\" x=\"23.21875\" y=\"329.750977\"/>\n",
       "</g>\n",
       "<g style=\"fill:rgb(30.196078%,30.196078%,30.196078%);fill-opacity:1;\">\n",
       "  <use xlink:href=\"#glyph0-3\" x=\"18.21875\" y=\"205.383789\"/>\n",
       "  <use xlink:href=\"#glyph0-1\" x=\"23.21875\" y=\"205.383789\"/>\n",
       "</g>\n",
       "<g style=\"fill:rgb(30.196078%,30.196078%,30.196078%);fill-opacity:1;\">\n",
       "  <use xlink:href=\"#glyph0-4\" x=\"18.21875\" y=\"81.016602\"/>\n",
       "  <use xlink:href=\"#glyph0-1\" x=\"23.21875\" y=\"81.016602\"/>\n",
       "</g>\n",
       "<path style=\"fill:none;stroke-width:1.066978;stroke-linecap:butt;stroke-linejoin:round;stroke:rgb(20%,20%,20%);stroke-opacity:1;stroke-miterlimit:10;\" d=\"M 30.410156 450.652344 L 33.152344 450.652344 \"/>\n",
       "<path style=\"fill:none;stroke-width:1.066978;stroke-linecap:butt;stroke-linejoin:round;stroke:rgb(20%,20%,20%);stroke-opacity:1;stroke-miterlimit:10;\" d=\"M 30.410156 326.285156 L 33.152344 326.285156 \"/>\n",
       "<path style=\"fill:none;stroke-width:1.066978;stroke-linecap:butt;stroke-linejoin:round;stroke:rgb(20%,20%,20%);stroke-opacity:1;stroke-miterlimit:10;\" d=\"M 30.410156 201.917969 L 33.152344 201.917969 \"/>\n",
       "<path style=\"fill:none;stroke-width:1.066978;stroke-linecap:butt;stroke-linejoin:round;stroke:rgb(20%,20%,20%);stroke-opacity:1;stroke-miterlimit:10;\" d=\"M 30.410156 77.550781 L 33.152344 77.550781 \"/>\n",
       "<path style=\"fill:none;stroke-width:1.066978;stroke-linecap:butt;stroke-linejoin:round;stroke:rgb(20%,20%,20%);stroke-opacity:1;stroke-miterlimit:10;\" d=\"M 105.023438 474.589844 L 105.023438 471.847656 \"/>\n",
       "<path style=\"fill:none;stroke-width:1.066978;stroke-linecap:butt;stroke-linejoin:round;stroke:rgb(20%,20%,20%);stroke-opacity:1;stroke-miterlimit:10;\" d=\"M 237.097656 474.589844 L 237.097656 471.847656 \"/>\n",
       "<path style=\"fill:none;stroke-width:1.066978;stroke-linecap:butt;stroke-linejoin:round;stroke:rgb(20%,20%,20%);stroke-opacity:1;stroke-miterlimit:10;\" d=\"M 369.171875 474.589844 L 369.171875 471.847656 \"/>\n",
       "<g style=\"fill:rgb(30.196078%,30.196078%,30.196078%);fill-opacity:1;\">\n",
       "  <use xlink:href=\"#glyph0-1\" x=\"96.523438\" y=\"483.74707\"/>\n",
       "  <use xlink:href=\"#glyph0-5\" x=\"101.523438\" y=\"483.74707\"/>\n",
       "  <use xlink:href=\"#glyph0-2\" x=\"103.523438\" y=\"483.74707\"/>\n",
       "  <use xlink:href=\"#glyph0-6\" x=\"108.523438\" y=\"483.74707\"/>\n",
       "</g>\n",
       "<g style=\"fill:rgb(30.196078%,30.196078%,30.196078%);fill-opacity:1;\">\n",
       "  <use xlink:href=\"#glyph0-1\" x=\"228.597656\" y=\"483.74707\"/>\n",
       "  <use xlink:href=\"#glyph0-5\" x=\"233.597656\" y=\"483.74707\"/>\n",
       "  <use xlink:href=\"#glyph0-3\" x=\"235.597656\" y=\"483.74707\"/>\n",
       "  <use xlink:href=\"#glyph0-1\" x=\"240.597656\" y=\"483.74707\"/>\n",
       "</g>\n",
       "<g style=\"fill:rgb(30.196078%,30.196078%,30.196078%);fill-opacity:1;\">\n",
       "  <use xlink:href=\"#glyph0-1\" x=\"360.671875\" y=\"483.74707\"/>\n",
       "  <use xlink:href=\"#glyph0-5\" x=\"365.671875\" y=\"483.74707\"/>\n",
       "  <use xlink:href=\"#glyph0-3\" x=\"367.671875\" y=\"483.74707\"/>\n",
       "  <use xlink:href=\"#glyph0-6\" x=\"372.671875\" y=\"483.74707\"/>\n",
       "</g>\n",
       "<g style=\"fill:rgb(0%,0%,0%);fill-opacity:1;\">\n",
       "  <use xlink:href=\"#glyph1-1\" x=\"254.835938\" y=\"496.477539\"/>\n",
       "  <use xlink:href=\"#glyph1-2\" x=\"260.835938\" y=\"496.477539\"/>\n",
       "  <use xlink:href=\"#glyph1-3\" x=\"264.835938\" y=\"496.477539\"/>\n",
       "  <use xlink:href=\"#glyph1-1\" x=\"270.835938\" y=\"496.477539\"/>\n",
       "</g>\n",
       "<g style=\"fill:rgb(0%,0%,0%);fill-opacity:1;\">\n",
       "  <use xlink:href=\"#glyph2-1\" x=\"13.438477\" y=\"256.164062\"/>\n",
       "  <use xlink:href=\"#glyph2-2\" x=\"13.438477\" y=\"250.164062\"/>\n",
       "  <use xlink:href=\"#glyph2-3\" x=\"13.438477\" y=\"244.164062\"/>\n",
       "  <use xlink:href=\"#glyph2-4\" x=\"13.438477\" y=\"238.164062\"/>\n",
       "  <use xlink:href=\"#glyph2-5\" x=\"13.438477\" y=\"232.164062\"/>\n",
       "  <use xlink:href=\"#glyph2-6\" x=\"13.438477\" y=\"230.164062\"/>\n",
       "  <use xlink:href=\"#glyph2-7\" x=\"13.438477\" y=\"227.164062\"/>\n",
       "</g>\n",
       "</g>\n",
       "</svg>\n"
      ],
      "text/plain": [
       "plot without title"
      ]
     },
     "metadata": {
      "application/pdf": {
       "height": 420,
       "width": 420
      },
      "image/jpeg": {
       "height": 420,
       "width": 420
      },
      "image/png": {
       "height": 420,
       "width": 420
      },
      "image/svg+xml": {
       "height": 420,
       "isolated": true,
       "width": 420
      }
     },
     "output_type": "display_data"
    }
   ],
   "source": [
    "wpg_precovid_bootstrap <- wpg_precovid |>\n",
    "    rep_sample_n(size = precovid_sample_size, reps = bootstrap_reps, replace = TRUE) |>\n",
    "    count(TYPE) |>\n",
    "    filter(TYPE == \"Break and Enter Commercial\" | TYPE == \"Break and Enter Residential/Other\") |>\n",
    "    group_by(replicate) |>\n",
    "    summarize(count = sum(n)) |>\n",
    "    mutate(prop = count / precovid_sample_size)\n",
    "\n",
    "wpg_covid_bootstrap <- wpg_covid |>\n",
    "    rep_sample_n(size = covid_sample_size, reps = bootstrap_reps, replace = TRUE) |>\n",
    "    count(TYPE) |>\n",
    "    filter(TYPE == \"Break and Enter Commercial\" | TYPE == \"Break and Enter Residential/Other\") |>\n",
    "    group_by(replicate) |>\n",
    "    summarize(count = sum(n)) |>\n",
    "    mutate(prop = count / covid_sample_size)\n",
    "\n",
    "wpg_bootstrap_dist <- \n",
    "    ggplot() +\n",
    "    geom_histogram(data = wpg_precovid_bootstrap, aes(prop, ..density..), fill = \"red\", alpha = 0.2) +\n",
    "    geom_histogram(data = wpg_covid_bootstrap, aes(prop, ..density..), fill = \"blue\", alpha = 0.2)\n",
    "    \n",
    "wpg_bootstrap_dist"
   ]
  },
  {
   "cell_type": "code",
   "execution_count": null,
   "id": "faf63981-971e-4838-b17a-96dd1eb9fc82",
   "metadata": {},
   "outputs": [],
   "source": []
  }
 ],
 "metadata": {
  "kernelspec": {
   "display_name": "R",
   "language": "R",
   "name": "ir"
  },
  "language_info": {
   "codemirror_mode": "r",
   "file_extension": ".r",
   "mimetype": "text/x-r-source",
   "name": "R",
   "pygments_lexer": "r",
   "version": "4.1.3"
  }
 },
 "nbformat": 4,
 "nbformat_minor": 5
}
